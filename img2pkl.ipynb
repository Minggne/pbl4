{
  "nbformat": 4,
  "nbformat_minor": 0,
  "metadata": {
    "colab": {
      "provenance": []
    },
    "kernelspec": {
      "name": "python3",
      "display_name": "Python 3"
    },
    "language_info": {
      "name": "python"
    }
  },
  "cells": [
    {
      "cell_type": "code",
      "execution_count": null,
      "metadata": {
        "colab": {
          "base_uri": "https://localhost:8080/"
        },
        "id": "5PvjO12cJiOb",
        "outputId": "81396a3d-9a88-4bdf-a113-fd8ec2ddc0d5"
      },
      "outputs": [
        {
          "output_type": "stream",
          "name": "stdout",
          "text": [
            "Cloning into 'Gait3D-Benchmark'...\n",
            "remote: Enumerating objects: 379, done.\u001b[K\n",
            "remote: Counting objects: 100% (379/379), done.\u001b[K\n",
            "remote: Compressing objects: 100% (255/255), done.\u001b[K\n",
            "remote: Total 379 (delta 186), reused 279 (delta 115), pack-reused 0 (from 0)\u001b[K\n",
            "Receiving objects: 100% (379/379), 1.63 MiB | 5.63 MiB/s, done.\n",
            "Resolving deltas: 100% (186/186), done.\n"
          ]
        }
      ],
      "source": [
        "!git clone https://github.com/Gait3D/Gait3D-Benchmark"
      ]
    },
    {
      "cell_type": "code",
      "source": [
        "from google.colab import drive\n",
        "drive.mount('/content/drive')"
      ],
      "metadata": {
        "colab": {
          "base_uri": "https://localhost:8080/"
        },
        "id": "7Aikuv_uKUjd",
        "outputId": "8f51b3f3-f6b0-4676-9b0f-31b1152953ad"
      },
      "execution_count": null,
      "outputs": [
        {
          "output_type": "stream",
          "name": "stdout",
          "text": [
            "Mounted at /content/drive\n"
          ]
        }
      ]
    },
    {
      "cell_type": "code",
      "source": [
        "!python /content/Gait3D-Benchmark/datasets/pretreatment_gps.py -i '/content/drive/MyDrive/Parsing_data' -o '/content/drive/MyDrive/Gait3D-pars-64-64-pkl' -r 64 -p"
      ],
      "metadata": {
        "colab": {
          "base_uri": "https://localhost:8080/"
        },
        "id": "UmsUWN2UKfih",
        "outputId": "78358168-8596-432b-c77b-f48bbf17d6a7"
      },
      "execution_count": null,
      "outputs": [
        {
          "output_type": "stream",
          "name": "stdout",
          "text": [
            "parsing: True\n",
            "Pretreating: 100% 18/18 [03:52<00:00, 12.94s/folder]\n"
          ]
        }
      ]
    }
  ]
}