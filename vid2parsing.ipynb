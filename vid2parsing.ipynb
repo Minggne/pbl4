{
  "cells": [
    {
      "cell_type": "code",
      "execution_count": null,
      "metadata": {
        "colab": {
          "base_uri": "https://localhost:8080/"
        },
        "id": "e447Ft45kRv3",
        "outputId": "07ef6db9-3cc7-4524-caf2-1ee72be09fcb"
      },
      "outputs": [
        {
          "output_type": "stream",
          "name": "stdout",
          "text": [
            "Mounted at /content/drive\n"
          ]
        }
      ],
      "source": [
        "from google.colab import drive\n",
        "drive.mount('/content/drive')\n"
      ]
    },
    {
      "cell_type": "code",
      "source": [
        "import cv2\n",
        "\n",
        "video_path = '/content/drive/MyDrive/Data_CDGNet/IMG_0876.MOV'  # Đường dẫn tới video của bạn\n",
        "\n",
        "cap = cv2.VideoCapture(video_path)\n",
        "\n",
        "# Lấy thông tin FPS\n",
        "fps = cap.get(cv2.CAP_PROP_FPS)\n",
        "\n",
        "print(f'Tốc độ khung hình (FPS): {fps}')\n",
        "\n",
        "cap.release()"
      ],
      "metadata": {
        "colab": {
          "base_uri": "https://localhost:8080/"
        },
        "id": "RWUAy345dDAS",
        "outputId": "32dd4444-400f-4501-ade7-51cc70df76d4"
      },
      "execution_count": null,
      "outputs": [
        {
          "output_type": "stream",
          "name": "stdout",
          "text": [
            "Tốc độ khung hình (FPS): 29.990939293264876\n"
          ]
        }
      ]
    },
    {
      "cell_type": "code",
      "source": [
        "import cv2\n",
        "import os\n",
        "\n",
        "# Đọc video\n",
        "video_path = '/content/drive/MyDrive/Data_CDGNet/IMG_0876.MOV'  # Đường dẫn video của bạn\n",
        "output_folder = '/content/drive/MyDrive/Data_CDGNet/vid2frames'  # Thư mục lưu các frame\n",
        "\n",
        "# Tạo thư mục nếu chưa có\n",
        "if not os.path.exists(output_folder):\n",
        "    os.makedirs(output_folder)\n",
        "\n",
        "# Mở video\n",
        "cap = cv2.VideoCapture(video_path)\n",
        "\n",
        "# Đếm số frame\n",
        "frame_number = 0\n",
        "\n",
        "while True:\n",
        "    ret, frame = cap.read()\n",
        "    if not ret:\n",
        "        break\n",
        "\n",
        "    # Lưu frame vào thư mục\n",
        "    frame_filename = os.path.join(output_folder, f'frame_{frame_number:04d}.jpg')\n",
        "    cv2.imwrite(frame_filename, frame)\n",
        "    frame_number += 1\n",
        "\n",
        "# Giải phóng tài nguyên\n",
        "cap.release()\n",
        "\n",
        "print(f'Đã tách {frame_number} frames từ video.')\n"
      ],
      "metadata": {
        "colab": {
          "base_uri": "https://localhost:8080/"
        },
        "id": "FPX3zFwNdVi0",
        "outputId": "84025c7a-9416-4e74-e60c-5c0ab1dfe94f"
      },
      "execution_count": null,
      "outputs": [
        {
          "output_type": "stream",
          "name": "stdout",
          "text": [
            "Đã tách 331 frames từ video.\n"
          ]
        }
      ]
    },
    {
      "cell_type": "code",
      "source": [
        "import sys\n",
        "sys.path.append('/content/drive/MyDrive/CDGNet-main')\n"
      ],
      "metadata": {
        "id": "9__kRS3EREdd"
      },
      "execution_count": null,
      "outputs": []
    },
    {
      "cell_type": "code",
      "source": [
        "!sh /content/drive/MyDrive/CDGNet-Parsing-main/run_inference.sh"
      ],
      "metadata": {
        "colab": {
          "base_uri": "https://localhost:8080/"
        },
        "id": "55sLNi9UWAcl",
        "outputId": "927c93c4-6c25-4552-df63-bd6e1d00eee9"
      },
      "execution_count": null,
      "outputs": [
        {
          "output_type": "stream",
          "name": "stdout",
          "text": [
            "Loading data from /content/drive/MyDrive/Raw/002/nm2/seq0\n",
            "100% 112/112 [00:00<00:00, 337472.74it/s]\n",
            "The model is restored from: /content/drive/MyDrive/model_best.pth\n",
            "112it [04:33,  2.44s/it]\n",
            "The parsing results are saved to /content/drive/MyDrive/Parsing_data/002/nm2/seq0/Pred_parsing_results\n",
            "The visualization results are saved to /content/drive/MyDrive/Parsing_data/002/nm2/seq0/Pred_parsing_results_vis\n",
            "112it [00:12,  8.72it/s]\n"
          ]
        }
      ]
    }
  ],
  "metadata": {
    "colab": {
      "provenance": [],
      "gpuType": "T4"
    },
    "kernelspec": {
      "display_name": "Python 3",
      "name": "python3"
    },
    "language_info": {
      "name": "python"
    },
    "accelerator": "GPU"
  },
  "nbformat": 4,
  "nbformat_minor": 0
}